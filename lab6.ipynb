{
  "nbformat": 4,
  "nbformat_minor": 0,
  "metadata": {
    "colab": {
      "provenance": [],
      "authorship_tag": "ABX9TyN3u7bznY0CuuTejbP9s1Au",
      "include_colab_link": true
    },
    "kernelspec": {
      "name": "python3",
      "display_name": "Python 3"
    },
    "language_info": {
      "name": "python"
    }
  },
  "cells": [
    {
      "cell_type": "markdown",
      "metadata": {
        "id": "view-in-github",
        "colab_type": "text"
      },
      "source": [
        "<a href=\"https://colab.research.google.com/github/ananastazi2/vo/blob/lab6/lab6.ipynb\" target=\"_parent\"><img src=\"https://colab.research.google.com/assets/colab-badge.svg\" alt=\"Open In Colab\"/></a>"
      ]
    },
    {
      "cell_type": "code",
      "execution_count": null,
      "metadata": {
        "colab": {
          "base_uri": "https://localhost:8080/"
        },
        "id": "RCTC1qpbXZSJ",
        "outputId": "d9dcbe5e-3947-43a4-e1ea-371a9c0913dd"
      },
      "outputs": [
        {
          "output_type": "stream",
          "name": "stdout",
          "text": [
            "Collecting pyspark\n",
            "  Downloading pyspark-3.5.0.tar.gz (316.9 MB)\n",
            "\u001b[2K     \u001b[90m━━━━━━━━━━━━━━━━━━━━━━━━━━━━━━━━━━━━━━━━\u001b[0m \u001b[32m316.9/316.9 MB\u001b[0m \u001b[31m2.3 MB/s\u001b[0m eta \u001b[36m0:00:00\u001b[0m\n",
            "\u001b[?25h  Preparing metadata (setup.py) ... \u001b[?25l\u001b[?25hdone\n",
            "Requirement already satisfied: py4j==0.10.9.7 in /usr/local/lib/python3.10/dist-packages (from pyspark) (0.10.9.7)\n",
            "Building wheels for collected packages: pyspark\n",
            "  Building wheel for pyspark (setup.py) ... \u001b[?25l\u001b[?25hdone\n",
            "  Created wheel for pyspark: filename=pyspark-3.5.0-py2.py3-none-any.whl size=317425345 sha256=526a7f1cc1bbd48713c8a65c9c7c0b13f0a13299443196514d720bc3e7ca624b\n",
            "  Stored in directory: /root/.cache/pip/wheels/41/4e/10/c2cf2467f71c678cfc8a6b9ac9241e5e44a01940da8fbb17fc\n",
            "Successfully built pyspark\n",
            "Installing collected packages: pyspark\n",
            "Successfully installed pyspark-3.5.0\n"
          ]
        }
      ],
      "source": [
        "%pip install pyspark"
      ]
    },
    {
      "cell_type": "code",
      "source": [
        "from pyspark.sql import SparkSession\n",
        "from pyspark.sql import Row\n",
        "\n",
        "spark = SparkSession.builder.appName(\"DataFrameTest\").getOrCreate()\n",
        "\n",
        "data = [\n",
        "    Row(id=1, name='Анастасія', age=19),\n",
        "    Row(id=2, name='Данило', age=18),\n",
        "    Row(id=3, name='Катерина', age=19)\n",
        "]\n",
        "\n",
        "df = spark.createDataFrame(data)\n",
        "\n",
        "df.show()\n"
      ],
      "metadata": {
        "colab": {
          "base_uri": "https://localhost:8080/"
        },
        "id": "tLsm0BDDYBhJ",
        "outputId": "4b177a26-ca58-476e-808b-0e648d9abab5"
      },
      "execution_count": null,
      "outputs": [
        {
          "output_type": "stream",
          "name": "stdout",
          "text": [
            "+---+---------+---+\n",
            "| id|     name|age|\n",
            "+---+---------+---+\n",
            "|  1|Анастасія| 19|\n",
            "|  2|   Данило| 18|\n",
            "|  3| Катерина| 19|\n",
            "+---+---------+---+\n",
            "\n"
          ]
        }
      ]
    },
    {
      "cell_type": "code",
      "source": [
        "from pyspark.sql import SparkSession\n",
        "\n",
        "spark = SparkSession.builder.appName(\"ReadTSV\").getOrCreate()\n",
        "\n",
        "file_path = \"/content/data_collections/name.basics.tsv.gz\"\n",
        "name_basics_df = spark.read.csv(file_path, header=True, inferSchema=True, sep=\"\\t\")\n",
        "\n",
        "name_basics_df.show()\n"
      ],
      "metadata": {
        "colab": {
          "base_uri": "https://localhost:8080/"
        },
        "id": "U63QWW-7dKt0",
        "outputId": "e1b07da8-fb36-4cf2-822f-5c8ddf8d2bbe"
      },
      "execution_count": null,
      "outputs": [
        {
          "output_type": "stream",
          "name": "stdout",
          "text": [
            "+---------+-------------------+---------+---------+--------------------+--------------------+\n",
            "|   nconst|        primaryName|birthYear|deathYear|   primaryProfession|      knownForTitles|\n",
            "+---------+-------------------+---------+---------+--------------------+--------------------+\n",
            "|nm0000001|       Fred Astaire|     1899|     1987|soundtrack,actor,...|tt0031983,tt00531...|\n",
            "|nm0000002|      Lauren Bacall|     1924|     2014|  actress,soundtrack|tt0117057,tt00383...|\n",
            "|nm0000003|    Brigitte Bardot|     1934|       \\N|actress,soundtrac...|tt0057345,tt00564...|\n",
            "|nm0000004|       John Belushi|     1949|     1982|actor,soundtrack,...|tt0078723,tt00804...|\n",
            "|nm0000005|     Ingmar Bergman|     1918|     2007|writer,director,a...|tt0069467,tt00509...|\n",
            "|nm0000006|     Ingrid Bergman|     1915|     1982|actress,soundtrac...|tt0038109,tt00368...|\n",
            "|nm0000007|    Humphrey Bogart|     1899|     1957|actor,soundtrack,...|tt0042593,tt00432...|\n",
            "|nm0000008|      Marlon Brando|     1924|     2004|actor,soundtrack,...|tt0047296,tt00686...|\n",
            "|nm0000009|     Richard Burton|     1925|     1984|actor,soundtrack,...|tt0087803,tt00611...|\n",
            "|nm0000010|       James Cagney|     1899|     1986|actor,soundtrack,...|tt0029870,tt00318...|\n",
            "|nm0000011|        Gary Cooper|     1901|     1961|actor,soundtrack,...|tt0035896,tt00447...|\n",
            "|nm0000012|        Bette Davis|     1908|     1989|actress,soundtrac...|tt0042192,tt00351...|\n",
            "|nm0000013|          Doris Day|     1922|     2019|soundtrack,actres...|tt0048317,tt00531...|\n",
            "|nm0000014|Olivia de Havilland|     1916|     2020|  actress,soundtrack|tt0029843,tt00408...|\n",
            "|nm0000015|         James Dean|     1931|     1955| actor,miscellaneous|tt0048545,tt00432...|\n",
            "|nm0000016|    Georges Delerue|     1925|     1992|composer,soundtra...|tt0091763,tt00963...|\n",
            "|nm0000017|   Marlene Dietrich|     1901|     1992|soundtrack,actres...|tt0055031,tt00512...|\n",
            "|nm0000018|       Kirk Douglas|     1916|     2020|actor,producer,so...|tt0080736,tt00543...|\n",
            "|nm0000019|   Federico Fellini|     1920|     1993|writer,director,a...|tt0056801,tt00711...|\n",
            "|nm0000020|        Henry Fonda|     1905|     1982|actor,producer,so...|tt0051207,tt00828...|\n",
            "+---------+-------------------+---------+---------+--------------------+--------------------+\n",
            "only showing top 20 rows\n",
            "\n"
          ]
        }
      ]
    },
    {
      "cell_type": "code",
      "source": [
        "from pyspark.sql import SparkSession\n",
        "\n",
        "spark = SparkSession.builder.appName(\"lab6_Anastasia_Promotska\").getOrCreate()\n",
        "\n",
        "file_path = \"/content/data_collections/title.akas.tsv.gz\"\n",
        "title_akas_df = spark.read.csv(file_path, header=True, inferSchema=True, sep=\"\\t\")\n",
        "\n",
        "title_akas_df.show()"
      ],
      "metadata": {
        "colab": {
          "base_uri": "https://localhost:8080/"
        },
        "id": "DheXFCflmubJ",
        "outputId": "3705d22f-29af-4376-84ef-c5689bb2f231"
      },
      "execution_count": null,
      "outputs": [
        {
          "output_type": "stream",
          "name": "stdout",
          "text": [
            "+---------+--------+--------------------+------+--------+-----------+--------------------+---------------+\n",
            "|  titleId|ordering|               title|region|language|      types|          attributes|isOriginalTitle|\n",
            "+---------+--------+--------------------+------+--------+-----------+--------------------+---------------+\n",
            "|tt0000001|       1|          Карменсіта|    UA|      \\N|imdbDisplay|                  \\N|              0|\n",
            "|tt0000001|       2|          Carmencita|    DE|      \\N|         \\N|       literal title|              0|\n",
            "|tt0000001|       3|Carmencita - span...|    HU|      \\N|imdbDisplay|                  \\N|              0|\n",
            "|tt0000001|       4|          Καρμενσίτα|    GR|      \\N|imdbDisplay|                  \\N|              0|\n",
            "|tt0000001|       5|          Карменсита|    RU|      \\N|imdbDisplay|                  \\N|              0|\n",
            "|tt0000001|       6|          Carmencita|    US|      \\N|imdbDisplay|                  \\N|              0|\n",
            "|tt0000001|       7|          Carmencita|    \\N|      \\N|   original|                  \\N|              1|\n",
            "|tt0000001|       8|      カルメンチータ|    JP|      ja|imdbDisplay|                  \\N|              0|\n",
            "|tt0000002|       1|Le clown et ses c...|    \\N|      \\N|   original|                  \\N|              1|\n",
            "|tt0000002|       2|Le clown et ses c...|    FR|      \\N|imdbDisplay|                  \\N|              0|\n",
            "|tt0000002|       3|   A bohóc és kutyái|    HU|      \\N|imdbDisplay|                  \\N|              0|\n",
            "|tt0000002|       4|Der Clown und sei...|    DE|      \\N|         \\N|       literal title|              0|\n",
            "|tt0000002|       5|Clovnul si cainii...|    RO|      \\N|imdbDisplay|                  \\N|              0|\n",
            "|tt0000002|       6|  Клоун и его собаки|    RU|      \\N|imdbDisplay|                  \\N|              0|\n",
            "|tt0000002|       7|The Clown and His...|    US|      \\N|         \\N|literal English t...|              0|\n",
            "|tt0000002|       8|          道化師と犬|    JP|      ja|imdbDisplay|                  \\N|              0|\n",
            "|tt0000003|       1|    Sarmanul Pierrot|    RO|      \\N|imdbDisplay|                  \\N|              0|\n",
            "|tt0000003|       2|     Szegény Pierrot|    HU|      \\N|imdbDisplay|                  \\N|              0|\n",
            "|tt0000003|       3|        哀れなピエロ|    JP|      ja|imdbDisplay|                  \\N|              0|\n",
            "|tt0000003|       4|        Бідний П'єро|    UA|      \\N|imdbDisplay|                  \\N|              0|\n",
            "+---------+--------+--------------------+------+--------+-----------+--------------------+---------------+\n",
            "only showing top 20 rows\n",
            "\n"
          ]
        }
      ]
    },
    {
      "cell_type": "code",
      "source": [
        "from pyspark.sql import SparkSession\n",
        "\n",
        "spark = SparkSession.builder.appName(\"lab6_Anastasia_Promotska\").getOrCreate()\n",
        "\n",
        "file_path = \"/content/data_collections/title.basics.tsv.gz\"\n",
        "title_basics_df = spark.read.csv(file_path, header=True, inferSchema=True, sep=\"\\t\")\n",
        "\n",
        "title_basics_df.limit(5).show()"
      ],
      "metadata": {
        "colab": {
          "base_uri": "https://localhost:8080/"
        },
        "id": "uvYis0ROn0pt",
        "outputId": "09a23d2d-7b26-44c3-e7e7-23e112489332"
      },
      "execution_count": null,
      "outputs": [
        {
          "output_type": "stream",
          "name": "stdout",
          "text": [
            "+---------+---------+--------------------+--------------------+-------+---------+-------+--------------+--------------------+\n",
            "|   tconst|titleType|        primaryTitle|       originalTitle|isAdult|startYear|endYear|runtimeMinutes|              genres|\n",
            "+---------+---------+--------------------+--------------------+-------+---------+-------+--------------+--------------------+\n",
            "|tt0000001|    short|          Carmencita|          Carmencita|      0|     1894|     \\N|             1|   Documentary,Short|\n",
            "|tt0000002|    short|Le clown et ses c...|Le clown et ses c...|      0|     1892|     \\N|             5|     Animation,Short|\n",
            "|tt0000003|    short|      Pauvre Pierrot|      Pauvre Pierrot|      0|     1892|     \\N|             4|Animation,Comedy,...|\n",
            "|tt0000004|    short|         Un bon bock|         Un bon bock|      0|     1892|     \\N|            12|     Animation,Short|\n",
            "|tt0000005|    short|    Blacksmith Scene|    Blacksmith Scene|      0|     1893|     \\N|             1|        Comedy,Short|\n",
            "+---------+---------+--------------------+--------------------+-------+---------+-------+--------------+--------------------+\n",
            "\n"
          ]
        }
      ]
    },
    {
      "cell_type": "code",
      "source": [
        "from pyspark.sql import SparkSession\n",
        "\n",
        "spark = SparkSession.builder.appName(\"lab6_Anastasia_Promotska\").getOrCreate()\n",
        "\n",
        "file_path = \"/content/data_collections/title.crew.tsv.gz\"\n",
        "title_crew_df = spark.read.csv(file_path, header=True, inferSchema=True, sep=\"\\t\")\n",
        "\n",
        "title_crew_df.limit(5).show()"
      ],
      "metadata": {
        "colab": {
          "base_uri": "https://localhost:8080/"
        },
        "id": "eotQDc2GojfA",
        "outputId": "a0b52760-d22e-4ec9-b628-84ea40584e8c"
      },
      "execution_count": null,
      "outputs": [
        {
          "output_type": "stream",
          "name": "stdout",
          "text": [
            "+---------+---------+-------+\n",
            "|   tconst|directors|writers|\n",
            "+---------+---------+-------+\n",
            "|tt0000001|nm0005690|     \\N|\n",
            "|tt0000002|nm0721526|     \\N|\n",
            "|tt0000003|nm0721526|     \\N|\n",
            "|tt0000004|nm0721526|     \\N|\n",
            "|tt0000005|nm0005690|     \\N|\n",
            "+---------+---------+-------+\n",
            "\n"
          ]
        }
      ]
    },
    {
      "cell_type": "code",
      "source": [
        "from pyspark.sql import SparkSession\n",
        "\n",
        "spark = SparkSession.builder.appName(\"lab6_Anastasia_Promotska\").getOrCreate()\n",
        "\n",
        "file_path = \"/content/data_collections/title.episode.tsv.gz\"\n",
        "title_episode_df = spark.read.csv(file_path, header=True, inferSchema=True, sep=\"\\t\")\n",
        "\n",
        "title_episode_df.limit(5).show()"
      ],
      "metadata": {
        "colab": {
          "base_uri": "https://localhost:8080/"
        },
        "id": "15WVkQLTpHaF",
        "outputId": "eba3976c-02e2-4c82-8f27-4af21f892e26"
      },
      "execution_count": null,
      "outputs": [
        {
          "output_type": "stream",
          "name": "stdout",
          "text": [
            "+---------+------------+------------+-------------+\n",
            "|   tconst|parentTconst|seasonNumber|episodeNumber|\n",
            "+---------+------------+------------+-------------+\n",
            "|tt0041951|   tt0041038|           1|            9|\n",
            "|tt0042816|   tt0989125|           1|           17|\n",
            "|tt0042889|   tt0989125|          \\N|           \\N|\n",
            "|tt0043426|   tt0040051|           3|           42|\n",
            "|tt0043631|   tt0989125|           2|           16|\n",
            "+---------+------------+------------+-------------+\n",
            "\n"
          ]
        }
      ]
    },
    {
      "cell_type": "code",
      "source": [
        "from pyspark.sql import SparkSession\n",
        "\n",
        "spark = SparkSession.builder.appName(\"lab6_Anastasia_Promotska\").getOrCreate()\n",
        "\n",
        "file_path = \"/content/data_collections/title.principals.tsv.gz\"\n",
        "title_principals_df = spark.read.csv(file_path, header=True, inferSchema=True, sep=\"\\t\")\n",
        "\n",
        "title_principals_df.limit(5).show()"
      ],
      "metadata": {
        "colab": {
          "base_uri": "https://localhost:8080/"
        },
        "id": "-yJ5h4wypkqG",
        "outputId": "4d7ff1e1-22ee-485b-cc7e-0c4e814f62ac"
      },
      "execution_count": null,
      "outputs": [
        {
          "output_type": "stream",
          "name": "stdout",
          "text": [
            "+---------+--------+---------+---------------+--------------------+----------+\n",
            "|   tconst|ordering|   nconst|       category|                 job|characters|\n",
            "+---------+--------+---------+---------------+--------------------+----------+\n",
            "|tt0000001|       1|nm1588970|           self|                  \\N|  [\"Self\"]|\n",
            "|tt0000001|       2|nm0005690|       director|                  \\N|        \\N|\n",
            "|tt0000001|       3|nm0374658|cinematographer|director of photo...|        \\N|\n",
            "|tt0000002|       1|nm0721526|       director|                  \\N|        \\N|\n",
            "|tt0000002|       2|nm1335271|       composer|                  \\N|        \\N|\n",
            "+---------+--------+---------+---------------+--------------------+----------+\n",
            "\n"
          ]
        }
      ]
    },
    {
      "cell_type": "code",
      "source": [
        "from pyspark.sql import SparkSession\n",
        "\n",
        "spark = SparkSession.builder.appName(\"lab6_Anastasia_Promotska\").getOrCreate()\n",
        "\n",
        "file_path = \"/content/data_collections/title.ratings.tsv.gz\"\n",
        "title_ratings_df = spark.read.csv(file_path, header=True, inferSchema=True, sep=\"\\t\")\n",
        "\n",
        "title_ratings_df.limit(5).show()"
      ],
      "metadata": {
        "colab": {
          "base_uri": "https://localhost:8080/"
        },
        "id": "puJyg3MvqxqT",
        "outputId": "45fca189-59dc-4e59-baf8-77ea3f041e2c"
      },
      "execution_count": null,
      "outputs": [
        {
          "output_type": "stream",
          "name": "stdout",
          "text": [
            "+---------+-------------+--------+\n",
            "|   tconst|averageRating|numVotes|\n",
            "+---------+-------------+--------+\n",
            "|tt0000001|          5.7|    2007|\n",
            "|tt0000002|          5.8|     270|\n",
            "|tt0000003|          6.5|    1920|\n",
            "|tt0000004|          5.5|     178|\n",
            "|tt0000005|          6.2|    2696|\n",
            "+---------+-------------+--------+\n",
            "\n"
          ]
        }
      ]
    }
  ]
}